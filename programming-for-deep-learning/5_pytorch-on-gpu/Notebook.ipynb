{
  "cells": [
    {
      "cell_type": "markdown",
      "metadata": {
        "id": "hVUV6gOiE9bq"
      },
      "source": [
        "torch.device is a class that represents the device on which a tensor is or will be stored. It can be used to specify the device to be used when creating a tensor, or when moving a tensor to a different device.\n",
        "\n",
        "For example, to create a tensor on the CPU, you can use:"
      ]
    },
    {
      "cell_type": "code",
      "execution_count": 1,
      "metadata": {
        "id": "zbRxRBnmE9bs"
      },
      "outputs": [],
      "source": [
        "import torch\n",
        "x = torch.randn(10, device=torch.device(\"cpu\"))"
      ]
    },
    {
      "cell_type": "markdown",
      "metadata": {
        "id": "gg0rZRw1E9bt"
      },
      "source": [
        "To create a tensor on the GPU, you can use:\n",
        "\n"
      ]
    },
    {
      "cell_type": "code",
      "execution_count": 2,
      "metadata": {
        "id": "QKcrOLX8E9bu"
      },
      "outputs": [],
      "source": [
        "x = torch.randn(10, device=torch.device(\"cuda\"))"
      ]
    },
    {
      "cell_type": "markdown",
      "metadata": {
        "id": "Hva78FY3E9bu"
      },
      "source": [
        "You can also use the to method of a tensor to move it to a different device:\n"
      ]
    },
    {
      "cell_type": "code",
      "execution_count": 3,
      "metadata": {
        "id": "MJUenGx6E9bv"
      },
      "outputs": [],
      "source": [
        "x = torch.randn(10)  # Creates a tensor on the default device (CPU)\n",
        "x = x.to(torch.device(\"cuda\"))  # Moves the tensor to the GPU"
      ]
    },
    {
      "cell_type": "markdown",
      "metadata": {
        "id": "3SDW7KoTE9bv"
      },
      "source": [
        "The device attribute of a tensor is a torch.device object that represents the device on which the tensor is stored. You can use this attribute to check the device of a tensor, or to specify the device when creating another tensor.\n",
        "\n",
        "For example:\n"
      ]
    },
    {
      "cell_type": "code",
      "execution_count": 7,
      "metadata": {
        "id": "7b60I3sKE9bw"
      },
      "outputs": [
        {
          "name": "stdout",
          "output_type": "stream",
          "text": [
            "x is on cuda:0\n",
            "y is on cuda:0\n"
          ]
        }
      ],
      "source": [
        "x = torch.randn(10).to(\"cuda\")\n",
        "print(f\"x is on {x.device}\")\n",
        "\n",
        "# y will be created on the same device as x\n",
        "y = torch.randn(10, device=x.device)\n",
        "print(f\"y is on {y.device}\")\n"
      ]
    }
  ],
  "metadata": {
    "colab": {
      "provenance": []
    },
    "kernelspec": {
      "display_name": "ML",
      "language": "python",
      "name": "python3"
    },
    "language_info": {
      "codemirror_mode": {
        "name": "ipython",
        "version": 3
      },
      "file_extension": ".py",
      "mimetype": "text/x-python",
      "name": "python",
      "nbconvert_exporter": "python",
      "pygments_lexer": "ipython3",
      "version": "3.9.7"
    },
    "orig_nbformat": 4,
    "vscode": {
      "interpreter": {
        "hash": "f5458f74cc04a2c0765be2b43bd75bd0f09091972ab65a3b08edb45fbf046640"
      }
    }
  },
  "nbformat": 4,
  "nbformat_minor": 0
}
