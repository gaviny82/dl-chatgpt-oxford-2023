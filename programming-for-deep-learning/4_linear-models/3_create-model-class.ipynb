{
  "cells": [
    {
      "attachments": {},
      "cell_type": "markdown",
      "metadata": {
        "id": "3vNJ4abkEvSJ"
      },
      "source": [
        "# Creating a Pytorch Regression Model\n",
        "\n",
        "The following cell defines a cartoon features array, with 100 datapoints and 9 features. Our task is to create a linear model to predict the values of a target variable y. In this practical we are not concerned with making the prediction itself, just in designing the network.\n"
      ]
    },
    {
      "cell_type": "code",
      "execution_count": 2,
      "metadata": {
        "id": "NnuQMSc_EvSM"
      },
      "outputs": [
        {
          "name": "stdout",
          "output_type": "stream",
          "text": [
            "torch.Size([100, 9])\n"
          ]
        }
      ],
      "source": [
        "import torch\n",
        "\n",
        "features = torch.rand(size=[100, 9], dtype=torch.float32)\n",
        "print(features.shape)\n"
      ]
    },
    {
      "attachments": {},
      "cell_type": "markdown",
      "metadata": {
        "id": "yyaULu6kEvSN"
      },
      "source": [
        "In the cell below, create a model class that inherits from `torch.nn.Module`.\n",
        "\n",
        "- Inside the class constructor, make the `super` call to delegate inheretance from the parent class.\n",
        "- Then define a network of three linear layers.\n",
        "- The input layer should have the same input size as the number of features in our data, and an output layer of the same size.\n",
        "- Make the middle layer have the same size input and output.\n",
        "- Make the final layer have an output size of 1, representing the value of our regression prediction.\n",
        "- Ensure that each linear layer is separated by a nonlinear activation layer of the appropriate type.\n",
        "- Finally, define the `forward` method.\n"
      ]
    },
    {
      "cell_type": "code",
      "execution_count": 4,
      "metadata": {
        "id": "7jGcn_FYEvSN"
      },
      "outputs": [],
      "source": [
        "class RegressionModel(torch.nn.Module):\n",
        "    def __init__(self):\n",
        "        super().__init__()\n",
        "        self.layers = torch.nn.Sequential(\n",
        "            torch.nn.Linear(9, 9),\n",
        "            torch.nn.ReLU(),\n",
        "            torch.nn.Linear(9, 1)\n",
        "        )\n",
        "\n",
        "    def forward(self, x):\n",
        "        return self.layers(x)\n"
      ]
    },
    {
      "attachments": {},
      "cell_type": "markdown",
      "metadata": {
        "id": "64NnhaFEEvSN"
      },
      "source": [
        "Now create an instance of the model, and check that the forward method works by passing the features to the model.\n"
      ]
    },
    {
      "cell_type": "code",
      "execution_count": 6,
      "metadata": {
        "id": "5pPcSjDLEvSO"
      },
      "outputs": [
        {
          "name": "stdout",
          "output_type": "stream",
          "text": [
            "tensor([[0.2792],\n",
            "        [0.3092],\n",
            "        [0.2924],\n",
            "        [0.2878],\n",
            "        [0.2826],\n",
            "        [0.2812],\n",
            "        [0.3064],\n",
            "        [0.2945],\n",
            "        [0.2884],\n",
            "        [0.3056],\n",
            "        [0.3052],\n",
            "        [0.2791],\n",
            "        [0.2797],\n",
            "        [0.3003],\n",
            "        [0.2956],\n",
            "        [0.3036],\n",
            "        [0.2987],\n",
            "        [0.2965],\n",
            "        [0.2922],\n",
            "        [0.3058],\n",
            "        [0.2949],\n",
            "        [0.2824],\n",
            "        [0.3097],\n",
            "        [0.2842],\n",
            "        [0.2843],\n",
            "        [0.3000],\n",
            "        [0.3012],\n",
            "        [0.2955],\n",
            "        [0.2936],\n",
            "        [0.3083],\n",
            "        [0.2816],\n",
            "        [0.2787],\n",
            "        [0.3077],\n",
            "        [0.2754],\n",
            "        [0.2772],\n",
            "        [0.3132],\n",
            "        [0.2917],\n",
            "        [0.2970],\n",
            "        [0.2792],\n",
            "        [0.2871],\n",
            "        [0.2837],\n",
            "        [0.3079],\n",
            "        [0.3009],\n",
            "        [0.2856],\n",
            "        [0.2959],\n",
            "        [0.2974],\n",
            "        [0.2981],\n",
            "        [0.2801],\n",
            "        [0.2971],\n",
            "        [0.2829],\n",
            "        [0.2921],\n",
            "        [0.3054],\n",
            "        [0.2969],\n",
            "        [0.2936],\n",
            "        [0.3066],\n",
            "        [0.3019],\n",
            "        [0.2967],\n",
            "        [0.2985],\n",
            "        [0.2981],\n",
            "        [0.2956],\n",
            "        [0.2866],\n",
            "        [0.3022],\n",
            "        [0.2775],\n",
            "        [0.2916],\n",
            "        [0.2813],\n",
            "        [0.3002],\n",
            "        [0.2879],\n",
            "        [0.2912],\n",
            "        [0.2942],\n",
            "        [0.2762],\n",
            "        [0.2735],\n",
            "        [0.2962],\n",
            "        [0.2923],\n",
            "        [0.2842],\n",
            "        [0.3101],\n",
            "        [0.3051],\n",
            "        [0.2952],\n",
            "        [0.3065],\n",
            "        [0.2930],\n",
            "        [0.2971],\n",
            "        [0.2831],\n",
            "        [0.2942],\n",
            "        [0.3078],\n",
            "        [0.2835],\n",
            "        [0.3122],\n",
            "        [0.2797],\n",
            "        [0.2836],\n",
            "        [0.2847],\n",
            "        [0.2787],\n",
            "        [0.2897],\n",
            "        [0.2815],\n",
            "        [0.2985],\n",
            "        [0.2902],\n",
            "        [0.2894],\n",
            "        [0.3016],\n",
            "        [0.2950],\n",
            "        [0.3022],\n",
            "        [0.2956],\n",
            "        [0.2961],\n",
            "        [0.2791]], grad_fn=<AddmmBackward0>)\n"
          ]
        }
      ],
      "source": [
        "# Create an instance of `RegressionModel`\n",
        "model = RegressionModel()\n",
        "\n",
        "# Pass the features to the model.\n",
        "output = model(features)\n",
        "\n",
        "print(output)"
      ]
    },
    {
      "attachments": {},
      "cell_type": "markdown",
      "metadata": {
        "id": "Iz9Uxp3bEvSO"
      },
      "source": [
        "Finally, print the weights and biases of the middle layer of the network.\n"
      ]
    },
    {
      "cell_type": "code",
      "execution_count": 8,
      "metadata": {
        "id": "yFAD5gmgEvSO"
      },
      "outputs": [
        {
          "name": "stdout",
          "output_type": "stream",
          "text": [
            "Weights: \n",
            "Parameter containing:\n",
            "tensor([[-0.1612, -0.2794, -0.2504, -0.0655, -0.0396,  0.0536,  0.0538,  0.0168,\n",
            "          0.0308],\n",
            "        [-0.1718,  0.2937,  0.0543, -0.2672,  0.1476, -0.2866,  0.2967, -0.2505,\n",
            "          0.0762],\n",
            "        [ 0.0440, -0.2644,  0.1956,  0.2725,  0.2046,  0.2609,  0.2372,  0.0072,\n",
            "          0.2277],\n",
            "        [-0.1336,  0.2401,  0.0748, -0.1312, -0.1784, -0.2863, -0.0424,  0.3086,\n",
            "         -0.2319],\n",
            "        [ 0.2345, -0.0806, -0.3125, -0.1119,  0.1103,  0.0084, -0.0841,  0.2282,\n",
            "          0.2974],\n",
            "        [ 0.1433, -0.2609,  0.2830, -0.1433, -0.0071, -0.1993, -0.2669, -0.1360,\n",
            "          0.2232],\n",
            "        [-0.1766, -0.1993, -0.2856,  0.1435, -0.2625, -0.1050,  0.0118,  0.1706,\n",
            "          0.1715],\n",
            "        [-0.2380,  0.0285, -0.1728, -0.2613, -0.1109, -0.0566, -0.1146, -0.2859,\n",
            "         -0.0775],\n",
            "        [-0.2441, -0.1320,  0.1121,  0.0043,  0.0269,  0.0396, -0.1649,  0.0808,\n",
            "         -0.1761]], requires_grad=True)\n",
            "\n",
            "Bias: \n",
            "Parameter containing:\n",
            "tensor([-0.0343,  0.1692,  0.1068, -0.1786, -0.2603, -0.1591, -0.0019, -0.2210,\n",
            "         0.0191], requires_grad=True)\n",
            "\n"
          ]
        }
      ],
      "source": [
        "middel_layer: torch.nn.Linear = model.layers[0]\n",
        "\n",
        "print(f\"Weights: \\n{middel_layer.weight}\\n\")\n",
        "print(f\"Bias: \\n{middel_layer.bias}\\n\")"
      ]
    }
  ],
  "metadata": {
    "colab": {
      "provenance": []
    },
    "kernelspec": {
      "display_name": "ML",
      "language": "python",
      "name": "python3"
    },
    "language_info": {
      "codemirror_mode": {
        "name": "ipython",
        "version": 3
      },
      "file_extension": ".py",
      "mimetype": "text/x-python",
      "name": "python",
      "nbconvert_exporter": "python",
      "pygments_lexer": "ipython3",
      "version": "3.9.7"
    },
    "orig_nbformat": 4,
    "vscode": {
      "interpreter": {
        "hash": "f5458f74cc04a2c0765be2b43bd75bd0f09091972ab65a3b08edb45fbf046640"
      }
    }
  },
  "nbformat": 4,
  "nbformat_minor": 0
}
