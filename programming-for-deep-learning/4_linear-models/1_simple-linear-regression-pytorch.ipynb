{
  "cells": [
    {
      "attachments": {},
      "cell_type": "markdown",
      "metadata": {
        "id": "CXY9e4pTEmUJ"
      },
      "source": [
        "# Fitting a Simple Linear Regression in Pytorch\n",
        "\n",
        "In this practical we will walk through the process of training a simple linear regression model in pytorch. First let's visualise our data. In the cell below, write some code to make a scatter plot of the x and y data.\n"
      ]
    },
    {
      "cell_type": "code",
      "execution_count": 25,
      "metadata": {
        "id": "fmJ0IHrzEmUM"
      },
      "outputs": [
        {
          "data": {
            "text/plain": [
              "<matplotlib.collections.PathCollection at 0x229761f97c0>"
            ]
          },
          "execution_count": 25,
          "metadata": {},
          "output_type": "execute_result"
        },
        {
          "data": {
            "image/png": "[encoded data removed]",
            "text/plain": [
              "<Figure size 432x288 with 1 Axes>"
            ]
          },
          "metadata": {
            "needs_background": "light"
          },
          "output_type": "display_data"
        }
      ],
      "source": [
        "# Visualize our data\n",
        "import matplotlib.pyplot as plt\n",
        "import numpy as np\n",
        "\n",
        "nsamples = 300\n",
        "x = np.random.rand(nsamples)\n",
        "y = np.sin(x) * np.power(x, 4) + 3*x + np.random.rand(nsamples)*0.8\n",
        "\n",
        "# Make a scatter plot of the x and y data\n",
        "plt.scatter(x, y)\n"
      ]
    },
    {
      "attachments": {},
      "cell_type": "markdown",
      "metadata": {
        "id": "4agz-q8lEmUN"
      },
      "source": [
        "We can create a simple linear model with a single input and output, using the class we defined in the lesson notebook. Run the cell below to create an instance of the `PytorchLinearRegression` class.\n"
      ]
    },
    {
      "cell_type": "code",
      "execution_count": 26,
      "metadata": {
        "id": "nn-ggnU4EmUN"
      },
      "outputs": [],
      "source": [
        "import torch\n",
        "import torch.nn as nn\n",
        "import torch.nn.functional as F\n",
        "from torch.autograd import Variable\n",
        "\n",
        "\n",
        "class PyTorchLinearRegression(torch.nn.Module):\n",
        "    def __init__(self, num_inputs, num_outputs):\n",
        "        super().__init__()\n",
        "        self.linear_layer = torch.nn.Linear(num_inputs, num_outputs)\n",
        "\n",
        "    def forward(self, X):\n",
        "        return self.linear_layer(X)\n",
        "\n",
        "\n",
        "linear_regression = PyTorchLinearRegression(1, 1)\n"
      ]
    },
    {
      "attachments": {},
      "cell_type": "markdown",
      "metadata": {
        "id": "5mY6XHWbEmUO"
      },
      "source": [
        "In the cell below, call the model on our `x_tensor` data. Then create a scatter plot showing the original `x` and `y` data in one colour, and the `x` and `y_pred` data in a second colour.\n"
      ]
    },
    {
      "cell_type": "code",
      "execution_count": 27,
      "metadata": {
        "id": "d8HZiChNEmUO"
      },
      "outputs": [
        {
          "data": {
            "text/plain": [
              "<matplotlib.collections.PathCollection at 0x22976251f10>"
            ]
          },
          "execution_count": 27,
          "metadata": {},
          "output_type": "execute_result"
        },
        {
          "data": {
            "image/png": "[encoded data removed]",
            "text/plain": [
              "<Figure size 432x288 with 1 Axes>"
            ]
          },
          "metadata": {
            "needs_background": "light"
          },
          "output_type": "display_data"
        }
      ],
      "source": [
        "x_tensor = torch.transpose(torch.tensor(\n",
        "    x, dtype=torch.float32).unsqueeze(0), 0, 1)\n",
        "\n",
        "# Pass the x_tensor data to the model's forward method, and assign the outputs to a variable called `y_pred`.\n",
        "y_pred = linear_regression(x_tensor)\n",
        "\n",
        "# Scatter the original x and y data, and assign the points a blue colour.\n",
        "plt.scatter(x, y, c='#0000FF')\n",
        "\n",
        "# Scatter the x and y_pred data, and assing the points a red colour.\n",
        "# You will need to convert the tensor back to numpy to do so. Use the .detach().numpy() method for this.\n",
        "plt.scatter(x, y_pred.detach().numpy(), c='#FF0000')\n"
      ]
    },
    {
      "attachments": {},
      "cell_type": "markdown",
      "metadata": {
        "id": "FjMj9MYPEmUO"
      },
      "source": [
        "In the next cell, edit the code to initialise the dataloader, and train the model.\n"
      ]
    },
    {
      "cell_type": "code",
      "execution_count": 28,
      "metadata": {
        "id": "CPuEmTN_EmUP"
      },
      "outputs": [],
      "source": [
        "from torch.utils.tensorboard import SummaryWriter\n",
        "from random import shuffle\n",
        "\n",
        "# This line converts the y data into a torch tensor of the correct format.\n",
        "y_tensor = torch.transpose(torch.tensor(\n",
        "    y, dtype=torch.float32).unsqueeze(0), 0, 1)\n",
        "\n",
        "\n",
        "def create_dummy_dataloader(x_tensor, y_tensor, batch_size=4):\n",
        "    '''function to create a simple dataloader.'''\n",
        "    def create_batches(data):\n",
        "        return [\n",
        "            data[idx*batch_size: (idx+1) * batch_size] if (idx + 1) * batch_size < len(data)\n",
        "            else data[idx*batch_size:]\n",
        "            for idx in range(len(data) // batch_size)\n",
        "        ]\n",
        "    batched_X = create_batches(x_tensor)\n",
        "    batched_y = create_batches(y_tensor)\n",
        "    return list(zip(batched_X, batched_y))\n",
        "\n",
        "\n",
        "def train(model, dataloader, epochs=20):\n",
        "    '''A simple training loop'''\n",
        "\n",
        "    writer = SummaryWriter()\n",
        "    optimiser = torch.optim.SGD(model.parameters(), lr=0.01)\n",
        "    tensor_board_index = 0\n",
        "\n",
        "    for epoch in range(epochs):\n",
        "        shuffle(dataloader)\n",
        "        for batch in dataloader:\n",
        "            features, labels = batch\n",
        "            prediction = model(features)\n",
        "            loss = torch.nn.functional.mse_loss(prediction, labels)\n",
        "            loss.backward()\n",
        "            optimiser.step()\n",
        "            optimiser.zero_grad()\n",
        "\n",
        "            # Logging\n",
        "            writer.add_scalar(\"Loss/Train\", loss.item(), tensor_board_index)\n",
        "            tensor_board_index += 1\n",
        "\n",
        "        # print(\"Loss:\", loss.item())\n",
        "        # print()\n"
      ]
    },
    {
      "cell_type": "code",
      "execution_count": 29,
      "metadata": {},
      "outputs": [],
      "source": [
        "# initialise the dataloader by calling our create_dummy_dataloader function on the x_tensor and y_tensor inputs.\n",
        "data_loader = create_dummy_dataloader(x_tensor, y_tensor)\n",
        "optimiser = torch.optim.SGD(linear_regression.parameters(), lr=0.01)\n",
        "\n",
        "# train the model by calling our `train` function on our linear_regression model and dataloader.\n",
        "train(linear_regression, data_loader, 20)\n"
      ]
    },
    {
      "attachments": {},
      "cell_type": "markdown",
      "metadata": {
        "id": "9rU6GKPVEmUQ"
      },
      "source": [
        "Now let's plot our data again, to see if the model has fit the data correctly.\n"
      ]
    },
    {
      "cell_type": "code",
      "execution_count": 31,
      "metadata": {
        "id": "rTM1OO6MEmUQ"
      },
      "outputs": [
        {
          "data": {
            "text/plain": [
              "<matplotlib.collections.PathCollection at 0x2296fa4ee50>"
            ]
          },
          "execution_count": 31,
          "metadata": {},
          "output_type": "execute_result"
        },
        {
          "data": {
            "image/png": "[encoded data removed]",
            "text/plain": [
              "<Figure size 432x288 with 1 Axes>"
            ]
          },
          "metadata": {
            "needs_background": "light"
          },
          "output_type": "display_data"
        }
      ],
      "source": [
        "# Pass the x_tensor data to the model's forward method a second time, and assign the outputs to `y_pred` again`\n",
        "y_pred = linear_regression(x_tensor)\n",
        "\n",
        "# Scatter the original x and y data, and assign the points a blue colour.\n",
        "plt.scatter(x, y, c='#0000FF')\n",
        "\n",
        "# Scatter the x and y_pred data, and assing the points a red colour.\n",
        "plt.scatter(x, y_pred.detach().numpy(), c='#FF0000')\n",
        "\n",
        "# Has the fit improved?\n",
        "# Yes!\n"
      ]
    }
  ],
  "metadata": {
    "colab": {
      "provenance": []
    },
    "kernelspec": {
      "display_name": "ML",
      "language": "python",
      "name": "python3"
    },
    "language_info": {
      "codemirror_mode": {
        "name": "ipython",
        "version": 3
      },
      "file_extension": ".py",
      "mimetype": "text/x-python",
      "name": "python",
      "nbconvert_exporter": "python",
      "pygments_lexer": "ipython3",
      "version": "3.9.7"
    },
    "orig_nbformat": 4,
    "vscode": {
      "interpreter": {
        "hash": "f5458f74cc04a2c0765be2b43bd75bd0f09091972ab65a3b08edb45fbf046640"
      }
    }
  },
  "nbformat": 4,
  "nbformat_minor": 0
}
