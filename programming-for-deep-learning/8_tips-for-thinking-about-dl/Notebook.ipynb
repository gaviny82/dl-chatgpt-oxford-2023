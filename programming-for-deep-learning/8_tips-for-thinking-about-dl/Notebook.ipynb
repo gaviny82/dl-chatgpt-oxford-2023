{
  "cells": [
    {
      "cell_type": "markdown",
      "metadata": {
        "id": "tfJRJ53xLwSK"
      },
      "source": [
        "# Tips to Simplify the Way you Think About Deep Learning\n",
        "\n",
        "## When you see a high dimensional vector, just think of a 3-dimensional vector\n",
        "\n",
        "![](https://github.com/AI-Core/Content-Public/blob/main/Content/units/Towards%20ChatGPT/3.%20Neural%20Networks/2.%20Tips%20to%20Simplify%20the%20Way%20you%20Think%20About%20Deep%20Learning/images/nD%20Space.png?raw=1)\n",
        "\n",
        "> \"To deal with hyper-planes in a 14-dimensional space, visualize a 3-D space and say 'fourteen' to yourself very loudly. Everyone does it.\" – Geoffrey Hinton\n",
        "\n",
        "## Any time you see a vector, think of it as a \"representation\"\n",
        "\n",
        "> There are methods to turn any kind of data into a vector representation (an embedding)\n",
        "\n",
        "Most commonly this is done with words.\n",
        "\n",
        "![](https://github.com/AI-Core/Content-Public/blob/main/Content/units/Towards%20ChatGPT/3.%20Neural%20Networks/2.%20Tips%20to%20Simplify%20the%20Way%20you%20Think%20About%20Deep%20Learning/images/Word%20Embeddings.png?raw=1)\n",
        "\n",
        "\n",
        "Amongst other things, this is useful because different words have different meanings, but some words are closer to others.\n",
        "\n",
        "Other data types can be embedded as a vector representation too.\n",
        "\n",
        "![](https://github.com/AI-Core/Content-Public/blob/main/Content/units/Towards%20ChatGPT/3.%20Neural%20Networks/2.%20Tips%20to%20Simplify%20the%20Way%20you%20Think%20About%20Deep%20Learning/images/Image%20Embedding.png?raw=1)\n",
        "\n",
        "As you will see as you learn more, you can create a vector representation of:\n",
        "- A row in a database\n",
        "- An image\n",
        "- A collection of images\n",
        "- A word\n",
        "- A document\n",
        "\n",
        "## Vector representations can have different levels of abstraction\n",
        "\n",
        "> A representation may be raw data, like the actual values in a database, or it may be meaningful, abstract, complex and higher-level. \n",
        "\n",
        "![](https://github.com/AI-Core/Content-Public/blob/main/Content/units/Towards%20ChatGPT/3.%20Neural%20Networks/2.%20Tips%20to%20Simplify%20the%20Way%20you%20Think%20About%20Deep%20Learning/images/Raw%20Data%20to%20Meaningful%20Representation%20through%20Understanding.png?raw=1)\n",
        "\n",
        "You will see vectors everywhere, with different levels of information:\n",
        "- Low level (simple): The values in a vector of input data (the raw representation of the data)\n",
        "- Somewhere in-between: The vector embeddings of different datapoints (representations of the word/image/whatever)\n",
        "- High level (complex): The values in different layers of neural networks (representations of what the network is thinking)\n",
        "\n",
        "## Neural Networks are just Input-Output Functions - but they can learn any function!"
      ]
    },
    {
      "cell_type": "markdown",
      "metadata": {
        "id": "EHjpJPMQLwSN"
      },
      "source": [
        "Neural networks can be very complicated if you get into the details, but most of the time you don't need to worry about the details.\n",
        "\n",
        "> Whenever you see a neural network, just think of it as a function that can learn to map from inputs to outputs\n",
        "\n",
        "The details of how they work under the hood will help you to understand how hard it is for them to learn that mapping, but the key thing is that they can learn to represent any input-output relationship.\n",
        "\n",
        "> Neural networks can learn to represent any continuous input-output function\n",
        "\n",
        "![](https://github.com/AI-Core/Content-Public/blob/main/Content/units/Towards%20ChatGPT/3.%20Neural%20Networks/2.%20Tips%20to%20Simplify%20the%20Way%20you%20Think%20About%20Deep%20Learning/images/NN%20%3D%20Function.png?raw=1)"
      ]
    }
  ],
  "metadata": {
    "colab": {
      "provenance": []
    },
    "kernelspec": {
      "display_name": "ML",
      "language": "python",
      "name": "python3"
    },
    "language_info": {
      "name": "python",
      "version": "3.9.7"
    },
    "orig_nbformat": 4,
    "vscode": {
      "interpreter": {
        "hash": "f5458f74cc04a2c0765be2b43bd75bd0f09091972ab65a3b08edb45fbf046640"
      }
    }
  },
  "nbformat": 4,
  "nbformat_minor": 0
}
