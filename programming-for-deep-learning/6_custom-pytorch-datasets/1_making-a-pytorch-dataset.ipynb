{
  "cells": [
    {
      "attachments": {},
      "cell_type": "markdown",
      "metadata": {
        "id": "9dLNFaMLKTNU"
      },
      "source": [
        "# Making a PyTorch Dataset\n"
      ]
    },
    {
      "attachments": {},
      "cell_type": "markdown",
      "metadata": {},
      "source": [
        "[Video - YouTube](https://youtu.be/6KSzXare_iU)\n"
      ]
    },
    {
      "cell_type": "code",
      "execution_count": 1,
      "metadata": {
        "id": "44a5825d"
      },
      "outputs": [
        {
          "name": "stdout",
          "output_type": "stream",
          "text": [
            "Files are downloaded.\n"
          ]
        }
      ],
      "source": [
        "# @title # Run the following cell to install the necessary libraries for this practical. { display-mode: \"form\" }\n",
        "# @markdown Don't worry about what's in this collapsed cell\n",
        "\n",
        "# pip install -q torch\n",
        "# pip install -q pandas\n",
        "import os\n",
        "import urllib.request\n",
        "from typing import Tuple\n",
        "\n",
        "if not os.path.exists('data'):\n",
        "    os.makedirs('data')\n",
        "\n",
        "if not os.path.exists('data/BostonHousing.csv'):\n",
        "    print('Downloading BostonHousing.csv...')\n",
        "    urllib.request.urlretrieve(\n",
        "        'https://s3-eu-west-1.amazonaws.com/aicore-portal-public-prod-307050600709/practicals_files/de5ba7fa-5835-4f4b-87c9-58d0d0bf086a/BostonHousing.csv', 'data/BostonHousing.csv')\n",
        "\n",
        "print('Files are downloaded.')\n"
      ]
    },
    {
      "cell_type": "markdown",
      "metadata": {
        "id": "S0kBSY5lKTNX"
      },
      "source": [
        "#### 1. Import `torch` and `pandas`.\n"
      ]
    },
    {
      "cell_type": "code",
      "execution_count": 2,
      "metadata": {
        "id": "2dICq7RtKTNY"
      },
      "outputs": [],
      "source": [
        "import torch\n",
        "import pandas as pd\n"
      ]
    },
    {
      "attachments": {},
      "cell_type": "markdown",
      "metadata": {
        "id": "q_vUKudlKTNY"
      },
      "source": [
        "#### 2. Define a class called `BostonHousingDataset` that inherits from `torch.utils.data.Dataset`.\n"
      ]
    },
    {
      "cell_type": "code",
      "execution_count": 3,
      "metadata": {},
      "outputs": [
        {
          "name": "stdout",
          "output_type": "stream",
          "text": [
            "torch.Size([506, 13])\n"
          ]
        },
        {
          "data": {
            "text/plain": [
              "torch.Size([13])"
            ]
          },
          "execution_count": 3,
          "metadata": {},
          "output_type": "execute_result"
        }
      ],
      "source": [
        "data = pd.read_csv(\"data/BostonHousing.csv\")\n",
        "\n",
        "columns = data.columns\n",
        "features_dataframe = data.loc[:, [col for col in columns if col != \"medv\"]]\n",
        "tensor = torch.Tensor(features_dataframe.to_numpy())\n",
        "print(tensor.shape)\n",
        "tensor[10, :].shape\n"
      ]
    },
    {
      "cell_type": "code",
      "execution_count": 4,
      "metadata": {
        "id": "oSBE-c1lKTNY"
      },
      "outputs": [],
      "source": [
        "class BostonHousingDataset(torch.utils.data.Dataset):\n",
        "\n",
        "    data: pd.DataFrame = None\n",
        "    X: torch.Tensor = None  # Features\n",
        "    Y: torch.Tensor = None  # Labels\n",
        "\n",
        "    def __init__(self) -> None:\n",
        "        super().__init__()\n",
        "        self.data = pd.read_csv(\"data/BostonHousing.csv\")\n",
        "\n",
        "        columns = self.data.columns\n",
        "        features_dataframe = self.data.loc[:, [\n",
        "            col for col in columns if col != \"medv\"]]\n",
        "        self.X = torch.Tensor(features_dataframe.to_numpy())\n",
        "\n",
        "        self.Y = torch.Tensor(self.data[\"medv\"])\n",
        "\n",
        "    def __getitem__(self, index: int) -> Tuple[torch.Tensor, torch.Tensor]:\n",
        "        return self.X[index, :], self.Y[index]\n",
        "\n",
        "    def __len__(self) -> int:\n",
        "        return len(self.X)\n"
      ]
    },
    {
      "attachments": {},
      "cell_type": "markdown",
      "metadata": {
        "id": "0IBTIk8nKTNZ"
      },
      "source": [
        "#### 3. Inside the class constructor, read in the dataset csv file using `pd.read_csv`.\n",
        "\n",
        "#### 4. Assign two attributes, `self.X` and `self.Y`, and assign them to your features and labels.\n",
        "\n",
        "The labels are in the column called \"medv”, all the other columns are features. Convert the data to torch tensor format as you assign them, and set the datatype to float32. You can look at the docs for `torch.tensor()` for help.\n",
        "\n",
        "#### 5. Now define the second crucial method of the dataset class: `__getitem__`.\n",
        "\n",
        "This needs to take in an index of your dataset and return the features and label corresponding to that index.\n",
        "\n",
        "#### 6. Then, define the `__len__` method, which defines how your dataset responds to the len() method in python.\n",
        "\n",
        "It should print the number of rows in your dataset when called.\n"
      ]
    },
    {
      "attachments": {},
      "cell_type": "markdown",
      "metadata": {
        "id": "2dlwcQSOKTNa"
      },
      "source": [
        "#### 7. Finally, let's load our data into a dataloader as if we were going to perform minibatch optimisation.\n",
        "\n",
        "Create an instance of your BostonHousingDatset class, and pass it as an argument to an instance of the `DataLoader` class (found in `torch.utils.data`). Specify a batch size of 4 and set shuffle to `True`, and call the instance `train_loader`.\n"
      ]
    },
    {
      "cell_type": "code",
      "execution_count": 6,
      "metadata": {
        "id": "NMULDkGCKTNa"
      },
      "outputs": [],
      "source": [
        "dataset = BostonHousingDataset()\n",
        "train_loader = torch.utils.data.DataLoader(dataset, batch_size=4, shuffle=True)\n"
      ]
    },
    {
      "attachments": {},
      "cell_type": "markdown",
      "metadata": {
        "id": "FHT06L0YKTNa"
      },
      "source": [
        "#### 8. We can now test our dataloader by running the command `next(iter(train_loader)`\n",
        "\n",
        "Print the result.\n"
      ]
    },
    {
      "cell_type": "code",
      "execution_count": 16,
      "metadata": {
        "id": "atbTEu9KKTNb"
      },
      "outputs": [
        {
          "data": {
            "text/plain": [
              "[tensor([[2.9916e-01, 2.0000e+01, 6.9600e+00, 0.0000e+00, 4.6400e-01, 5.8560e+00,\n",
              "          4.2100e+01, 4.4290e+00, 3.0000e+00, 2.2300e+02, 1.8600e+01, 3.8865e+02,\n",
              "          1.3000e+01],\n",
              "         [6.4440e+00, 0.0000e+00, 1.8100e+01, 0.0000e+00, 5.8400e-01, 6.4250e+00,\n",
              "          7.4800e+01, 2.2004e+00, 2.4000e+01, 6.6600e+02, 2.0200e+01, 9.7950e+01,\n",
              "          1.2030e+01],\n",
              "         [5.6460e-02, 0.0000e+00, 1.2830e+01, 0.0000e+00, 4.3700e-01, 6.2320e+00,\n",
              "          5.3700e+01, 5.0141e+00, 5.0000e+00, 3.9800e+02, 1.8700e+01, 3.8640e+02,\n",
              "          1.2340e+01],\n",
              "         [1.3522e+01, 0.0000e+00, 1.8100e+01, 0.0000e+00, 6.3100e-01, 3.8630e+00,\n",
              "          1.0000e+02, 1.5106e+00, 2.4000e+01, 6.6600e+02, 2.0200e+01, 1.3142e+02,\n",
              "          1.3330e+01]]),\n",
              " tensor([21.1000, 16.1000, 21.2000, 23.1000])]"
            ]
          },
          "execution_count": 16,
          "metadata": {},
          "output_type": "execute_result"
        }
      ],
      "source": [
        "next(iter(train_loader))\n"
      ]
    }
  ],
  "metadata": {
    "colab": {
      "provenance": []
    },
    "kernelspec": {
      "display_name": "ML",
      "language": "python",
      "name": "python3"
    },
    "language_info": {
      "codemirror_mode": {
        "name": "ipython",
        "version": 3
      },
      "file_extension": ".py",
      "mimetype": "text/x-python",
      "name": "python",
      "nbconvert_exporter": "python",
      "pygments_lexer": "ipython3",
      "version": "3.9.7"
    },
    "vscode": {
      "interpreter": {
        "hash": "f5458f74cc04a2c0765be2b43bd75bd0f09091972ab65a3b08edb45fbf046640"
      }
    }
  },
  "nbformat": 4,
  "nbformat_minor": 0
}
