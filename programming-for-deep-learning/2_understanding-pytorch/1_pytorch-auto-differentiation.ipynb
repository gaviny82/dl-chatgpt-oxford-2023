{
  "cells": [
    {
      "attachments": {},
      "cell_type": "markdown",
      "metadata": {
        "id": "H8Xw_0XsD8R2"
      },
      "source": [
        "# Automatic differentiation in Pytorch\n",
        "\n",
        "PyTorch is an open-source machine learning library based on the Torch library, used for applications such as computer vision and natural language processing. It provides a flexible and intuitive interface for creating and training deep learning models, and also supports tensor computation with strong GPU acceleration. At its heart though is a simple concept, the torch tensor - a variable type that resembles a numpy array. but with added features to perform automatic differentiation.\n",
        "\n",
        "In the code block below, create a variable called `x` and assign it a value of 1.0.\n",
        "Then convert it to a torch tensor, setting `requires_grad` to True.\n"
      ]
    },
    {
      "cell_type": "code",
      "execution_count": 7,
      "metadata": {
        "id": "khhFQszGD8R4"
      },
      "outputs": [],
      "source": [
        "import torch\n",
        "# Create a variable called x and assign it a value of 1.0.\n",
        "x = 1.0\n",
        "\n",
        "# Convert X to a torch tensor, setting requires_grad to True.\n",
        "x = torch.tensor(x, requires_grad=True)\n"
      ]
    },
    {
      "attachments": {},
      "cell_type": "markdown",
      "metadata": {
        "id": "ncIinbw4D8R5"
      },
      "source": [
        "In the next codeblock, define a function called `quadratic_function` that takes in a value of x, and applies a quadratic function to it, for example (3 \\* x^2 + 2x + 10). Apply it to `x`, and assign the output to a variable called `y`.\n"
      ]
    },
    {
      "cell_type": "code",
      "execution_count": 8,
      "metadata": {
        "id": "j6xkeTaAD8R6"
      },
      "outputs": [],
      "source": [
        "def quadratic_function(x):\n",
        "    # Define the quadratic function\n",
        "    return 10 * x ** 2 + 4 * x - 1\n",
        "\n",
        "\n",
        "# Pass x to the function, and passing the output to a variable called `y`.\n",
        "y = quadratic_function(x)\n"
      ]
    },
    {
      "attachments": {},
      "cell_type": "markdown",
      "metadata": {
        "id": "p-4ipUNED8R6"
      },
      "source": [
        "Now call the `torch.backward()` method on y, and print the `grad` of x. Then print the `grad` of `y`, and print the value of `requires_grad` for `y`.\n"
      ]
    },
    {
      "cell_type": "code",
      "execution_count": 9,
      "metadata": {
        "id": "Tl5vj6k0D8R6"
      },
      "outputs": [
        {
          "name": "stdout",
          "output_type": "stream",
          "text": [
            "tensor(24.)\n",
            "None\n",
            "y.requires_grad=True\n"
          ]
        },
        {
          "name": "stderr",
          "output_type": "stream",
          "text": [
            "c:\\Users\\jinch\\.conda\\envs\\ML\\lib\\site-packages\\torch\\_tensor.py:1083: UserWarning: The .grad attribute of a Tensor that is not a leaf Tensor is being accessed. Its .grad attribute won't be populated during autograd.backward(). If you indeed want the .grad field to be populated for a non-leaf Tensor, use .retain_grad() on the non-leaf Tensor. If you access the non-leaf Tensor by mistake, make sure you access the leaf Tensor instead. See github.com/pytorch/pytorch/pull/30531 for more informations. (Triggered internally at  C:\\cb\\pytorch_1000000000000\\work\\build\\aten\\src\\ATen/core/TensorBody.h:482.)\n",
            "  return self._grad\n"
          ]
        }
      ],
      "source": [
        "# Call `torch.backward()` on y.\n",
        "torch.autograd.backward(y)\n",
        "\n",
        "# Print the `grad` of x.\n",
        "print(x.grad)\n",
        "\n",
        "# Print the `grad` of y.\n",
        "print(y.grad)\n",
        "\n",
        "# Print the value of `requires_grad` for `y`\n",
        "print(f\"y.requires_grad={y.requires_grad}\")\n"
      ]
    },
    {
      "attachments": {},
      "cell_type": "markdown",
      "metadata": {
        "id": "dIpn5LOlD8R7"
      },
      "source": [
        "In the cell below, call the `zero_grad` method of `x`, and print the `grad` again.\n",
        "Then set `requires_grad` to false for `x`.\n"
      ]
    },
    {
      "cell_type": "code",
      "execution_count": 10,
      "metadata": {
        "id": "lPlacIq6D8R7"
      },
      "outputs": [
        {
          "name": "stdout",
          "output_type": "stream",
          "text": [
            "tensor(0.)\n"
          ]
        }
      ],
      "source": [
        "import torch.optim as optim\n",
        "\n",
        "# Call `zero_grad` on x.\n",
        "x.grad.zero_()\n",
        "\n",
        "# Print the `grad` of x.\n",
        "print(x.grad)\n",
        "\n",
        "# Set `requires_grad` to False for `x`.\n",
        "x.requires_grad = False\n"
      ]
    },
    {
      "attachments": {},
      "cell_type": "markdown",
      "metadata": {
        "id": "-_BiJeStD8R8"
      },
      "source": [
        "Now call the quadratic function on `x` again, repeat the `torch.backward()` call on `y`, and print the `grad` of `x`. Print the value of `requires_grad` for `y`.\n"
      ]
    },
    {
      "cell_type": "code",
      "execution_count": 14,
      "metadata": {
        "id": "7iCYVWM_D8R8"
      },
      "outputs": [
        {
          "name": "stdout",
          "output_type": "stream",
          "text": [
            "tensor(24.)\n",
            "True\n"
          ]
        }
      ],
      "source": [
        "# Pass x to the function, and passing the output to a variable called `y`.\n",
        "x = torch.tensor(1.0, requires_grad=True)\n",
        "y = quadratic_function(x)\n",
        "\n",
        "# Call `torch.backward()` on y.\n",
        "y.backward()\n",
        "\n",
        "# Print the `grad` of x.\n",
        "print(x.grad)\n",
        "\n",
        "# Print the value of `requires_grad` for y.\n",
        "print(y.requires_grad)\n"
      ]
    }
  ],
  "metadata": {
    "colab": {
      "provenance": []
    },
    "kernelspec": {
      "display_name": "ML",
      "language": "python",
      "name": "python3"
    },
    "language_info": {
      "codemirror_mode": {
        "name": "ipython",
        "version": 3
      },
      "file_extension": ".py",
      "mimetype": "text/x-python",
      "name": "python",
      "nbconvert_exporter": "python",
      "pygments_lexer": "ipython3",
      "version": "3.9.7"
    },
    "orig_nbformat": 4,
    "vscode": {
      "interpreter": {
        "hash": "f5458f74cc04a2c0765be2b43bd75bd0f09091972ab65a3b08edb45fbf046640"
      }
    }
  },
  "nbformat": 4,
  "nbformat_minor": 0
}
