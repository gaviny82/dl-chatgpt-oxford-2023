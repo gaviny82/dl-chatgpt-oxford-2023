{
  "cells": [
    {
      "attachments": {},
      "cell_type": "markdown",
      "metadata": {
        "id": "SVVjG6AU94Ul"
      },
      "source": [
        "# Creating Dummy Data\n",
        "\n",
        "Imagine you are building a machine learning model for a classification problem, and you want to pass it some dummy data that has the same shape as your real data. You know that each datum will have 9 features, which are all floating point integers between -1 and 1, and a label, which will be an integer between 0 and 3, as you are trying to classify between 4 classes.\n"
      ]
    },
    {
      "cell_type": "code",
      "execution_count": 8,
      "metadata": {
        "id": "m3JTEGeC94Up"
      },
      "outputs": [],
      "source": [
        "# Run this cell to import the dependencies\n",
        "\n",
        "import numpy as np\n"
      ]
    },
    {
      "attachments": {},
      "cell_type": "markdown",
      "metadata": {
        "id": "d0xupiDv94Uq"
      },
      "source": [
        "In the code box below, create a numpy array of 100 of random integers, and assign it to a variable called `labels`.\n"
      ]
    },
    {
      "cell_type": "code",
      "execution_count": 9,
      "metadata": {
        "id": "8EdHsxkl94Uq"
      },
      "outputs": [],
      "source": [
        "labels = np.random.randint(0, 4, size=(100, 1))\n"
      ]
    },
    {
      "attachments": {},
      "cell_type": "markdown",
      "metadata": {
        "id": "rQwbOaYG94Ur"
      },
      "source": [
        "Now create an array that corresponds to your features, so that you have one set of features for each label.\n"
      ]
    },
    {
      "cell_type": "code",
      "execution_count": 10,
      "metadata": {
        "id": "pVVtbrov94Ur"
      },
      "outputs": [],
      "source": [
        "features = np.random.uniform(low=-1.0, high=1.0, size=(100, 9))\n"
      ]
    },
    {
      "attachments": {},
      "cell_type": "markdown",
      "metadata": {
        "id": "IB6q5NA994Ur"
      },
      "source": [
        "Print the shape of your features variable:\n"
      ]
    },
    {
      "cell_type": "code",
      "execution_count": 11,
      "metadata": {
        "id": "RtWmMaMH94Us"
      },
      "outputs": [
        {
          "data": {
            "text/plain": [
              "(100, 9)"
            ]
          },
          "execution_count": 11,
          "metadata": {},
          "output_type": "execute_result"
        }
      ],
      "source": [
        "features.shape\n"
      ]
    },
    {
      "attachments": {},
      "cell_type": "markdown",
      "metadata": {
        "id": "6ziBUBlz94Us"
      },
      "source": [
        "Print the shape of your labels:\n"
      ]
    },
    {
      "cell_type": "code",
      "execution_count": 12,
      "metadata": {
        "id": "tarXY2jO94Us"
      },
      "outputs": [
        {
          "data": {
            "text/plain": [
              "(100, 1)"
            ]
          },
          "execution_count": 12,
          "metadata": {},
          "output_type": "execute_result"
        }
      ],
      "source": [
        "labels.shape\n"
      ]
    },
    {
      "attachments": {},
      "cell_type": "markdown",
      "metadata": {
        "id": "-0tmQLcj94Ut"
      },
      "source": [
        "Write a simple function to get the length of your dataset (ie. the number of rows in your features array):\n"
      ]
    },
    {
      "cell_type": "code",
      "execution_count": 13,
      "metadata": {
        "id": "DQAhbmy894Ut"
      },
      "outputs": [],
      "source": [
        "def length_of(dataset: np.ndarray) -> int:\n",
        "    return dataset.shape[0]\n"
      ]
    },
    {
      "cell_type": "code",
      "execution_count": null,
      "metadata": {
        "tags": []
      },
      "outputs": [],
      "source": [
        "length_of(features)\n"
      ]
    }
  ],
  "metadata": {
    "colab": {
      "provenance": []
    },
    "kernelspec": {
      "display_name": "ML",
      "language": "python",
      "name": "python3"
    },
    "language_info": {
      "codemirror_mode": {
        "name": "ipython",
        "version": 3
      },
      "file_extension": ".py",
      "mimetype": "text/x-python",
      "name": "python",
      "nbconvert_exporter": "python",
      "pygments_lexer": "ipython3",
      "version": "3.9.7"
    },
    "orig_nbformat": 4,
    "vscode": {
      "interpreter": {
        "hash": "f5458f74cc04a2c0765be2b43bd75bd0f09091972ab65a3b08edb45fbf046640"
      }
    }
  },
  "nbformat": 4,
  "nbformat_minor": 0
}
