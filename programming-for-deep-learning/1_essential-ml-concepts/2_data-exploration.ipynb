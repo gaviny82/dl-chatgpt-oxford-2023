{
  "cells": [
    {
      "attachments": {},
      "cell_type": "markdown",
      "metadata": {
        "id": "yRGeGaKcDdu8"
      },
      "source": [
        "# Data Exploration\n"
      ]
    },
    {
      "cell_type": "code",
      "execution_count": 47,
      "metadata": {
        "id": "0310bf3b"
      },
      "outputs": [
        {
          "name": "stdout",
          "output_type": "stream",
          "text": [
            "Files are downloaded.\n"
          ]
        }
      ],
      "source": [
        "# @title # Run the following cell to download the necessary files for this practical. { display-mode: \"form\" }\n",
        "# @markdown Don't worry about what's in this collapsed cell\n",
        "\n",
        "import urllib.request\n",
        "import os\n",
        "\n",
        "if not os.path.exists('data'):\n",
        "    os.makedirs('data')\n",
        "\n",
        "if not os.path.exists('data/features_data.npy'):\n",
        "    print('Downloading features_data.npy...')\n",
        "    urllib.request.urlretrieve(\n",
        "        'https://s3-eu-west-1.amazonaws.com/aicore-portal-public-prod-307050600709/practicals_files/d3c3c455-feb6-4293-87ff-8c40c5a06d73/features_data.npy', 'data/features_data.npy')\n",
        "\n",
        "if not os.path.exists('data/labels_data.npy'):\n",
        "    print('Downloading labels_data.npy...')\n",
        "    urllib.request.urlretrieve(\n",
        "        'https://s3-eu-west-1.amazonaws.com/aicore-portal-public-prod-307050600709/practicals_files/d3c3c455-feb6-4293-87ff-8c40c5a06d73/labels_data.npy', 'data/labels_data.npy')\n",
        "\n",
        "print('Files are downloaded.')\n"
      ]
    },
    {
      "cell_type": "code",
      "execution_count": 48,
      "metadata": {
        "id": "mrhRWlL5DdvB"
      },
      "outputs": [],
      "source": [
        "# Dependencies\n",
        "\n",
        "import numpy as np\n",
        "import matplotlib.pyplot as plt\n"
      ]
    },
    {
      "attachments": {},
      "cell_type": "markdown",
      "metadata": {
        "id": "k4gQFCc8DdvC"
      },
      "source": [
        "The data for this practical are stored in two numpy files called `labels_data` and `features_data`. Use the `np.load` function to bring them into the workspace and assign them to variables called `features` and `labels`.\n"
      ]
    },
    {
      "cell_type": "code",
      "execution_count": 49,
      "metadata": {
        "id": "mTEvOpM5DdvC"
      },
      "outputs": [],
      "source": [
        "features: np.ndarray = np.load('data/features_data.npy')\n",
        "labels: np.ndarray = np.load('data/labels_data.npy')\n"
      ]
    },
    {
      "attachments": {},
      "cell_type": "markdown",
      "metadata": {
        "id": "wXKeQNF-DdvD"
      },
      "source": [
        "Find the shape of the labels and features variables:\n"
      ]
    },
    {
      "cell_type": "code",
      "execution_count": 50,
      "metadata": {
        "id": "3HsSvciMDdvE"
      },
      "outputs": [
        {
          "name": "stdout",
          "output_type": "stream",
          "text": [
            "Features shape: (100, 9)\n",
            "Labels shape: (100,)\n"
          ]
        }
      ],
      "source": [
        "print(f\"Features shape: {features.shape}\")\n",
        "print(f\"Labels shape: {labels.shape}\")\n"
      ]
    },
    {
      "attachments": {},
      "cell_type": "markdown",
      "metadata": {
        "id": "86Uk2cKFDdvE"
      },
      "source": [
        "Now do some exploratory data analysis. Calculate the mean and std of all the features, for rows where the label is 1. Then do the same for all the features for rows where the label is 2.\n"
      ]
    },
    {
      "cell_type": "code",
      "execution_count": 51,
      "metadata": {
        "id": "6jVkVcUjDdvF"
      },
      "outputs": [],
      "source": [
        "# All features\n",
        "mean: np.ndarray = features.mean(axis=1)  # mean of each row\n",
        "sd: np.ndarray = features.std(axis=1)  # standard deviation of each row\n"
      ]
    },
    {
      "cell_type": "code",
      "execution_count": 52,
      "metadata": {},
      "outputs": [],
      "source": [
        "# Rows where the label is 1\n",
        "rows1: np.ndarray = np.asarray(\n",
        "    [data for (data, label) in zip(features, labels) if label == 1])\n",
        "mean1: np.ndarray = rows1.mean(axis=1)\n",
        "sd1: np.ndarray = rows1.std(axis=1)\n"
      ]
    },
    {
      "cell_type": "code",
      "execution_count": 53,
      "metadata": {},
      "outputs": [],
      "source": [
        "# Rows where the label is 2\n",
        "rows2: np.ndarray = np.asarray(\n",
        "    [data for (data, label) in zip(features, labels) if label == 2])\n",
        "\n",
        "mean2: np.ndarray = rows2.mean(axis=1)\n",
        "sd2: np.ndarray = rows2.std(axis=1)\n"
      ]
    },
    {
      "attachments": {},
      "cell_type": "markdown",
      "metadata": {
        "id": "Hn08ROu2DdvF"
      },
      "source": [
        "Now use `Matplotlib` to create a scatter plot, where the values of feature 1 are on the X axis and the values of feature 2 are on the Y axis. Plot the values of feature 1 and feature 2 for all the rows where the class label is zero.\n",
        "\n",
        "Then scatter the feature 1 and feature 2 values against each other for class label 1, in a different colour.\n"
      ]
    },
    {
      "cell_type": "code",
      "execution_count": 60,
      "metadata": {
        "id": "wr5u3gX5DdvG"
      },
      "outputs": [
        {
          "data": {
            "text/plain": [
              "<matplotlib.legend.Legend at 0x293a25ca280>"
            ]
          },
          "execution_count": 60,
          "metadata": {},
          "output_type": "execute_result"
        },
        {
          "data": {
            "image/png": "[encoded data removed]",
            "text/plain": [
              "<Figure size 432x288 with 1 Axes>"
            ]
          },
          "metadata": {
            "needs_background": "light"
          },
          "output_type": "display_data"
        }
      ],
      "source": [
        "rows0: np.ndarray = np.asarray(\n",
        "    [data for (data, label) in zip(features, labels) if label == 0])\n",
        "\n",
        "plt.scatter(rows0[:, 0], rows0[:, 1], label=\"Label=0\")\n",
        "plt.scatter(rows1[:, 0], rows1[:, 1], label=\"Label=1\")\n",
        "plt.legend()"
      ]
    }
  ],
  "metadata": {
    "colab": {
      "provenance": []
    },
    "kernelspec": {
      "display_name": "ML",
      "language": "python",
      "name": "python3"
    },
    "language_info": {
      "codemirror_mode": {
        "name": "ipython",
        "version": 3
      },
      "file_extension": ".py",
      "mimetype": "text/x-python",
      "name": "python",
      "nbconvert_exporter": "python",
      "pygments_lexer": "ipython3",
      "version": "3.9.7"
    },
    "vscode": {
      "interpreter": {
        "hash": "f5458f74cc04a2c0765be2b43bd75bd0f09091972ab65a3b08edb45fbf046640"
      }
    }
  },
  "nbformat": 4,
  "nbformat_minor": 0
}
