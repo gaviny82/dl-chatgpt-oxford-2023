{
  "cells": [
    {
      "attachments": {},
      "cell_type": "markdown",
      "metadata": {
        "id": "qHttv4NR-AEt"
      },
      "source": [
        "# Matrix Operations in Numpy\n"
      ]
    },
    {
      "attachments": {},
      "cell_type": "markdown",
      "metadata": {
        "id": "yLpUyjLj-AEw"
      },
      "source": [
        "### Transposition\n",
        "\n",
        "In the codeblock below there are two matrices. Print the shape of each matrix.\n"
      ]
    },
    {
      "cell_type": "code",
      "execution_count": 22,
      "metadata": {
        "id": "xW_TWoLe-AEw"
      },
      "outputs": [
        {
          "name": "stdout",
          "output_type": "stream",
          "text": [
            "matrix_1 shape: (9, 3)\n",
            "matrix_2 shape: (9, 5)\n"
          ]
        }
      ],
      "source": [
        "import numpy as np\n",
        "import numpy.linalg as la\n",
        "import matplotlib.pyplot as plt\n",
        "\n",
        "matrix_1 = np.random.randint(0, high=3, size=[9, 3])\n",
        "matrix_2 = np.random.randint(0, high=3, size=[9, 5])\n",
        "\n",
        "print(f\"matrix_1 shape: {matrix_1.shape}\")\n",
        "print(f\"matrix_2 shape: {matrix_2.shape}\")\n"
      ]
    },
    {
      "attachments": {},
      "cell_type": "markdown",
      "metadata": {
        "id": "3-_AoKHS-AEx"
      },
      "source": [
        "Now use numpy to transpose the variable called `matrix_1` in the codeblock below, and then calculate the dot product of the transposed `matrix_1` and the variable called `matrix_2`, assigning it to a variable called `matrix_3`.\n"
      ]
    },
    {
      "cell_type": "code",
      "execution_count": 23,
      "metadata": {
        "id": "5YY9-5iw-AEx"
      },
      "outputs": [
        {
          "name": "stdout",
          "output_type": "stream",
          "text": [
            "matrix_1_T: \n",
            "[[1 1 1 1 1 1 0 0 2]\n",
            " [2 2 0 1 1 1 1 0 2]\n",
            " [1 0 2 1 1 2 0 0 0]]\n",
            "\n",
            "matrix_1_T dot matrix_2: \n",
            "[[ 6  5 11  8  4]\n",
            " [ 4  8 13 10  7]\n",
            " [ 6  4  9  9  2]]\n",
            "\n"
          ]
        }
      ],
      "source": [
        "matrix_1_T = np.transpose(matrix_1)\n",
        "print(f\"matrix_1_T: \\n{matrix_1_T}\\n\")\n",
        "\n",
        "matrix_3 = np.dot(matrix_1_T, matrix_2)\n",
        "print(f\"matrix_1_T dot matrix_2: \\n{matrix_3}\\n\")\n"
      ]
    },
    {
      "attachments": {},
      "cell_type": "markdown",
      "metadata": {
        "id": "L0ZvXXKU-AEx"
      },
      "source": [
        "Now slice out the 3rd and 5th columns of matrix 3, and calculate their inner product.\n"
      ]
    },
    {
      "cell_type": "code",
      "execution_count": 24,
      "metadata": {
        "id": "4h3FF78B-AEy"
      },
      "outputs": [
        {
          "name": "stdout",
          "output_type": "stream",
          "text": [
            "153\n"
          ]
        }
      ],
      "source": [
        "product = np.dot(matrix_3[:, 2], matrix_3[:, 4])\n",
        "print(product)\n"
      ]
    },
    {
      "attachments": {},
      "cell_type": "markdown",
      "metadata": {
        "id": "T5J6ZXye-AEy"
      },
      "source": [
        "### Cosine Distance\n",
        "\n",
        "Cosine distance is a measure of similarity between two non-zero vectors of an inner product space that measures the cosine of the angle between them. It ranges from 0 to 1, where 0 indicates that the vectors are exactly similar and 1 indicates that they are completely dissimilar. In other words, the cosine distance measures the extent to which two vectors are orthogonal or parallel to each other. It is defined as the dot product of the two vectors divided by the product of their norms.\n",
        "\n",
        "In the codeblock below, write a function that takes two vecotrs as inputs and returns the cosine distance between them.\n"
      ]
    },
    {
      "cell_type": "code",
      "execution_count": 25,
      "metadata": {
        "id": "ZtATL2u1-AEz",
        "outputId": "5657c082-1a99-4bac-9bb5-f09d4bde972b"
      },
      "outputs": [
        {
          "name": "stdout",
          "output_type": "stream",
          "text": [
            "Cosine distance between the two vectors is:  0.9746318461970762\n"
          ]
        }
      ],
      "source": [
        "vector1 = np.array([1, 2, 3])\n",
        "vector2 = np.array([4, 5, 6])\n",
        "\n",
        "\n",
        "def cosine_distance(v1, v2):\n",
        "    return np.dot(v1, v2) / (la.norm(v1) * la.norm(v2))\n",
        "\n",
        "\n",
        "distance = cosine_distance(vector1, vector2)\n",
        "print(\"Cosine distance between the two vectors is: \", distance)\n"
      ]
    },
    {
      "attachments": {},
      "cell_type": "markdown",
      "metadata": {
        "id": "pcwRocl1-AEz"
      },
      "source": [
        "### Linear relationships\n",
        "\n",
        "In the codeblock below, write a function that takes in three parameters called `x_data` (a vector), `gradient` (a scalar) and `bias` (another scalar), and outputs a vector called `y_data`, which is the same length as `x_data` and represents the output of a linear function with the gradient and bias provided as arguments.\n"
      ]
    },
    {
      "cell_type": "code",
      "execution_count": 26,
      "metadata": {
        "id": "Lwuw0X5--AE0"
      },
      "outputs": [],
      "source": [
        "def linear_equation(x_data, gradient, bias):\n",
        "    y_data = gradient * x_data + bias\n",
        "    return y_data\n"
      ]
    },
    {
      "attachments": {},
      "cell_type": "markdown",
      "metadata": {
        "id": "psPzDFgZ-AE0"
      },
      "source": [
        "Now in the code block below, create variables called `gradient` and `bias`, and use the `np.arrange` function to create a numpy array called `x_data` consisting of the integers from 0 to 20. Pass all three variables to `linear_equation` as arguments, and plot the x and y data on a scatter graph using the `matplotlib` library.\n"
      ]
    },
    {
      "cell_type": "code",
      "execution_count": 27,
      "metadata": {
        "id": "eFgkF_48-AE1",
        "outputId": "ae0ef6d2-c4cc-40b5-ea21-17f478c71d7e"
      },
      "outputs": [
        {
          "data": {
            "text/plain": [
              "<matplotlib.collections.PathCollection at 0x1c27951a340>"
            ]
          },
          "execution_count": 27,
          "metadata": {},
          "output_type": "execute_result"
        },
        {
          "data": {
            "image/png": "[encoded data removed]",
            "text/plain": [
              "<Figure size 432x288 with 1 Axes>"
            ]
          },
          "metadata": {
            "needs_background": "light"
          },
          "output_type": "display_data"
        }
      ],
      "source": [
        "gradient = 2\n",
        "bias = 0.2\n",
        "\n",
        "x_data = np.arange(21)\n",
        "y_data = linear_equation(x_data, gradient, bias)\n",
        "\n",
        "plt.scatter(x_data, y_data)\n"
      ]
    }
  ],
  "metadata": {
    "colab": {
      "provenance": []
    },
    "kernelspec": {
      "display_name": "ML",
      "language": "python",
      "name": "python3"
    },
    "language_info": {
      "codemirror_mode": {
        "name": "ipython",
        "version": 3
      },
      "file_extension": ".py",
      "mimetype": "text/x-python",
      "name": "python",
      "nbconvert_exporter": "python",
      "pygments_lexer": "ipython3",
      "version": "3.9.7"
    },
    "orig_nbformat": 4,
    "vscode": {
      "interpreter": {
        "hash": "f5458f74cc04a2c0765be2b43bd75bd0f09091972ab65a3b08edb45fbf046640"
      }
    }
  },
  "nbformat": 4,
  "nbformat_minor": 0
}
