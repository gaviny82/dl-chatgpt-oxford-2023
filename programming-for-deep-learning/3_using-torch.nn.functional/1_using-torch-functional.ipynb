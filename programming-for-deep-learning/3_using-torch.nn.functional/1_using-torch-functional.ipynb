{
  "cells": [
    {
      "attachments": {},
      "cell_type": "markdown",
      "metadata": {
        "id": "UBda5k_cERzG"
      },
      "source": [
        "# Torch.nn.functional\n"
      ]
    },
    {
      "cell_type": "code",
      "execution_count": 33,
      "metadata": {},
      "outputs": [],
      "source": [
        "import numpy as np\n",
        "import torch\n"
      ]
    },
    {
      "attachments": {},
      "cell_type": "markdown",
      "metadata": {
        "id": "ZpMJ9TNSERzI"
      },
      "source": [
        "### ReLu function\n",
        "\n",
        "In the codeblock below, define a function called `relu` which takes in an input vector and applies the `ReLu` non-linear function. Write the function logic yourself, without using the pytorch method.\n"
      ]
    },
    {
      "cell_type": "code",
      "execution_count": 31,
      "metadata": {
        "id": "TAki-ItbERzJ"
      },
      "outputs": [],
      "source": [
        "input_vector = torch.randint(-10, 10, (1, 10))\n",
        "\n",
        "\n",
        "def relu(input_vector: torch.Tensor) -> torch.Tensor:\n",
        "\n",
        "    # Create a copy of the input\n",
        "    output_vector = torch.clone(input_vector)\n",
        "\n",
        "    # Recursively apply ReLU to all dimensions\n",
        "    def _relu(input: torch.Tensor):\n",
        "\n",
        "        if len(input.shape) == 1:\n",
        "            # This is a vector\n",
        "            for i, value in enumerate(input):\n",
        "                if value < 0:\n",
        "                    input[i] = 0\n",
        "            return\n",
        "\n",
        "        for tensor in input:\n",
        "            _relu(tensor)\n",
        "\n",
        "    # Drive the recursive calls\n",
        "    _relu(output_vector)\n",
        "    return output_vector\n",
        "\n",
        "\n",
        "output = relu(input_vector)\n"
      ]
    },
    {
      "attachments": {},
      "cell_type": "markdown",
      "metadata": {
        "id": "AH8FQNBGERzK"
      },
      "source": [
        "Now replace the logic of your function with the pytorch implementation of `ReLu` and run the code again. Then change the activation function to first `sigmoid` and then `tanh`, printing the output each time and noting how it changes.\n"
      ]
    },
    {
      "cell_type": "code",
      "execution_count": 36,
      "metadata": {},
      "outputs": [
        {
          "name": "stdout",
          "output_type": "stream",
          "text": [
            "ReLU:     tensor([[1, 4, 1, 9, 0, 4, 7, 0, 0, 0]])\n",
            "Sigmoid:  tensor([[7.3106e-01, 9.8201e-01, 7.3106e-01, 9.9988e-01, 5.0000e-01, 9.8201e-01,\n",
            "         9.9909e-01, 3.3535e-04, 4.7426e-02, 6.6929e-03]])\n",
            "tanh:     tensor([[ 0.7616,  0.9993,  0.7616,  1.0000,  0.0000,  0.9993,  1.0000, -1.0000,\n",
            "         -0.9951, -0.9999]])\n"
          ]
        }
      ],
      "source": [
        "input_vector = torch.randint(-10, 10, (1, 10))\n",
        "\n",
        "print(\"ReLU:    \", torch.nn.functional.relu(input_vector))\n",
        "print(\"Sigmoid: \", torch.nn.functional.sigmoid(input_vector))\n",
        "print(\"tanh:    \", torch.nn.functional.tanh(input_vector))\n"
      ]
    },
    {
      "attachments": {},
      "cell_type": "markdown",
      "metadata": {
        "id": "xD_RrWk_ERzK"
      },
      "source": [
        "### Loss Functions\n",
        "\n",
        "In the codeblock below, there are two lists of integers. Assume that they are a batch of predictions and targets in a multiclass classification problem. Convert the two lists to torch tensors, and using an in-built method from `torch.nn.functional` apply the apppropriate loss function and print the resulting average loss for the batch.\n"
      ]
    },
    {
      "cell_type": "code",
      "execution_count": 46,
      "metadata": {
        "id": "8muPiT1WERzL"
      },
      "outputs": [
        {
          "name": "stdout",
          "output_type": "stream",
          "text": [
            "tensor(47.8328)\n"
          ]
        }
      ],
      "source": [
        "predictions = [1, 3, 5, 5, 4, 2]\n",
        "targets = [3, 3, 5, 4, 4, 2]\n",
        "\n",
        "# convert predictions and targets to pytorch tensors\n",
        "predictions = torch.Tensor(predictions)\n",
        "targets = torch.Tensor(targets)\n",
        "\n",
        "# apply the appropriate loss function to print the average loss from the batch.\n",
        "loss = torch.nn.functional.cross_entropy(predictions, targets)\n",
        "print(loss)\n"
      ]
    },
    {
      "attachments": {},
      "cell_type": "markdown",
      "metadata": {
        "id": "3hYQwnbGERzL"
      },
      "source": [
        "The codeblock below contains two more lists, this time of floating point numbers. They represent a batch of predictions and targets in a regression problem and the associated model. As before, convert them to tensors and use the appropriate built-in method from `torch.nn.functional` to calculate average loss for the batch.\n"
      ]
    },
    {
      "cell_type": "code",
      "execution_count": 48,
      "metadata": {
        "id": "Da6cg34DERzL"
      },
      "outputs": [
        {
          "name": "stdout",
          "output_type": "stream",
          "text": [
            "tensor(17.9183)\n"
          ]
        }
      ],
      "source": [
        "predictions = [60.5, 35.3, 22.1, 5.2, 5.2, 4.89, 22.0]\n",
        "targets = [65.3, 30.2, 18.7, 2.8, 2.8, 4.8, 14.7]\n",
        "\n",
        "# convert predictions and targets to pytorch tensors\n",
        "predictions = torch.Tensor(predictions)\n",
        "targets = torch.Tensor(targets)\n",
        "\n",
        "# apply the appropriate loss function to print the average loss from the batch.\n",
        "loss = torch.nn.functional.mse_loss(predictions, targets)\n",
        "print(loss)\n"
      ]
    }
  ],
  "metadata": {
    "colab": {
      "provenance": []
    },
    "kernelspec": {
      "display_name": "ML",
      "language": "python",
      "name": "python3"
    },
    "language_info": {
      "codemirror_mode": {
        "name": "ipython",
        "version": 3
      },
      "file_extension": ".py",
      "mimetype": "text/x-python",
      "name": "python",
      "nbconvert_exporter": "python",
      "pygments_lexer": "ipython3",
      "version": "3.9.7"
    },
    "orig_nbformat": 4,
    "vscode": {
      "interpreter": {
        "hash": "f5458f74cc04a2c0765be2b43bd75bd0f09091972ab65a3b08edb45fbf046640"
      }
    }
  },
  "nbformat": 4,
  "nbformat_minor": 0
}
